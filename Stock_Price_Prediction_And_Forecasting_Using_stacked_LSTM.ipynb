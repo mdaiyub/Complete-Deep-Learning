{
  "nbformat": 4,
  "nbformat_minor": 0,
  "metadata": {
    "colab": {
      "name": "Stock Price Prediction And Forecasting Using stacked LSTM.ipynb",
      "provenance": []
    },
    "kernelspec": {
      "name": "python3",
      "display_name": "Python 3"
    },
    "language_info": {
      "name": "python"
    }
  },
  "cells": [
    {
      "cell_type": "code",
      "execution_count": 2,
      "metadata": {
        "id": "iQQFDosMLOUY"
      },
      "outputs": [],
      "source": [
        " import pandas_datareader as pdr"
      ]
    },
    {
      "cell_type": "code",
      "source": [
        "#df = pdr.get_data_tiingo('AAPL',api_key = key)"
      ],
      "metadata": {
        "id": "ZCytj4lINoDI"
      },
      "execution_count": 3,
      "outputs": []
    },
    {
      "cell_type": "code",
      "source": [
        "import pandas as pd\n",
        "df = pd.read_csv('https://raw.githubusercontent.com/mdaiyub/Complete-Deep-Learning/main/DataSet/AAPL.csv')\n",
        "df.head(5)"
      ],
      "metadata": {
        "colab": {
          "base_uri": "https://localhost:8080/",
          "height": 337
        },
        "id": "u7WmJkcfW74p",
        "outputId": "722fbbb9-e805-4c16-de0e-f39dc5245344"
      },
      "execution_count": 4,
      "outputs": [
        {
          "output_type": "execute_result",
          "data": {
            "text/plain": [
              "         Date        Open        High         Low       Close   Adj Close  \\\n",
              "0  2014-09-29  100.589996  100.690002   98.040001   99.620003   93.514290   \n",
              "1  2014-10-06   99.949997  102.379997   98.309998  100.730003   94.556244   \n",
              "2  2014-10-13  101.330002  101.779999   95.180000   97.669998   91.683792   \n",
              "3  2014-10-20   98.320000  105.489998   98.220001  105.220001   98.771042   \n",
              "4  2014-10-27  104.849998  108.040001  104.699997  108.000000  101.380676   \n",
              "\n",
              "      Volume  \n",
              "0  142718700  \n",
              "1  280258200  \n",
              "2  358539800  \n",
              "3  358532900  \n",
              "4  220230600  "
            ],
            "text/html": [
              "\n",
              "  <div id=\"df-4337d57e-5184-424a-8cea-933eebb8909d\">\n",
              "    <div class=\"colab-df-container\">\n",
              "      <div>\n",
              "<style scoped>\n",
              "    .dataframe tbody tr th:only-of-type {\n",
              "        vertical-align: middle;\n",
              "    }\n",
              "\n",
              "    .dataframe tbody tr th {\n",
              "        vertical-align: top;\n",
              "    }\n",
              "\n",
              "    .dataframe thead th {\n",
              "        text-align: right;\n",
              "    }\n",
              "</style>\n",
              "<table border=\"1\" class=\"dataframe\">\n",
              "  <thead>\n",
              "    <tr style=\"text-align: right;\">\n",
              "      <th></th>\n",
              "      <th>Date</th>\n",
              "      <th>Open</th>\n",
              "      <th>High</th>\n",
              "      <th>Low</th>\n",
              "      <th>Close</th>\n",
              "      <th>Adj Close</th>\n",
              "      <th>Volume</th>\n",
              "    </tr>\n",
              "  </thead>\n",
              "  <tbody>\n",
              "    <tr>\n",
              "      <th>0</th>\n",
              "      <td>2014-09-29</td>\n",
              "      <td>100.589996</td>\n",
              "      <td>100.690002</td>\n",
              "      <td>98.040001</td>\n",
              "      <td>99.620003</td>\n",
              "      <td>93.514290</td>\n",
              "      <td>142718700</td>\n",
              "    </tr>\n",
              "    <tr>\n",
              "      <th>1</th>\n",
              "      <td>2014-10-06</td>\n",
              "      <td>99.949997</td>\n",
              "      <td>102.379997</td>\n",
              "      <td>98.309998</td>\n",
              "      <td>100.730003</td>\n",
              "      <td>94.556244</td>\n",
              "      <td>280258200</td>\n",
              "    </tr>\n",
              "    <tr>\n",
              "      <th>2</th>\n",
              "      <td>2014-10-13</td>\n",
              "      <td>101.330002</td>\n",
              "      <td>101.779999</td>\n",
              "      <td>95.180000</td>\n",
              "      <td>97.669998</td>\n",
              "      <td>91.683792</td>\n",
              "      <td>358539800</td>\n",
              "    </tr>\n",
              "    <tr>\n",
              "      <th>3</th>\n",
              "      <td>2014-10-20</td>\n",
              "      <td>98.320000</td>\n",
              "      <td>105.489998</td>\n",
              "      <td>98.220001</td>\n",
              "      <td>105.220001</td>\n",
              "      <td>98.771042</td>\n",
              "      <td>358532900</td>\n",
              "    </tr>\n",
              "    <tr>\n",
              "      <th>4</th>\n",
              "      <td>2014-10-27</td>\n",
              "      <td>104.849998</td>\n",
              "      <td>108.040001</td>\n",
              "      <td>104.699997</td>\n",
              "      <td>108.000000</td>\n",
              "      <td>101.380676</td>\n",
              "      <td>220230600</td>\n",
              "    </tr>\n",
              "  </tbody>\n",
              "</table>\n",
              "</div>\n",
              "      <button class=\"colab-df-convert\" onclick=\"convertToInteractive('df-4337d57e-5184-424a-8cea-933eebb8909d')\"\n",
              "              title=\"Convert this dataframe to an interactive table.\"\n",
              "              style=\"display:none;\">\n",
              "        \n",
              "  <svg xmlns=\"http://www.w3.org/2000/svg\" height=\"24px\"viewBox=\"0 0 24 24\"\n",
              "       width=\"24px\">\n",
              "    <path d=\"M0 0h24v24H0V0z\" fill=\"none\"/>\n",
              "    <path d=\"M18.56 5.44l.94 2.06.94-2.06 2.06-.94-2.06-.94-.94-2.06-.94 2.06-2.06.94zm-11 1L8.5 8.5l.94-2.06 2.06-.94-2.06-.94L8.5 2.5l-.94 2.06-2.06.94zm10 10l.94 2.06.94-2.06 2.06-.94-2.06-.94-.94-2.06-.94 2.06-2.06.94z\"/><path d=\"M17.41 7.96l-1.37-1.37c-.4-.4-.92-.59-1.43-.59-.52 0-1.04.2-1.43.59L10.3 9.45l-7.72 7.72c-.78.78-.78 2.05 0 2.83L4 21.41c.39.39.9.59 1.41.59.51 0 1.02-.2 1.41-.59l7.78-7.78 2.81-2.81c.8-.78.8-2.07 0-2.86zM5.41 20L4 18.59l7.72-7.72 1.47 1.35L5.41 20z\"/>\n",
              "  </svg>\n",
              "      </button>\n",
              "      \n",
              "  <style>\n",
              "    .colab-df-container {\n",
              "      display:flex;\n",
              "      flex-wrap:wrap;\n",
              "      gap: 12px;\n",
              "    }\n",
              "\n",
              "    .colab-df-convert {\n",
              "      background-color: #E8F0FE;\n",
              "      border: none;\n",
              "      border-radius: 50%;\n",
              "      cursor: pointer;\n",
              "      display: none;\n",
              "      fill: #1967D2;\n",
              "      height: 32px;\n",
              "      padding: 0 0 0 0;\n",
              "      width: 32px;\n",
              "    }\n",
              "\n",
              "    .colab-df-convert:hover {\n",
              "      background-color: #E2EBFA;\n",
              "      box-shadow: 0px 1px 2px rgba(60, 64, 67, 0.3), 0px 1px 3px 1px rgba(60, 64, 67, 0.15);\n",
              "      fill: #174EA6;\n",
              "    }\n",
              "\n",
              "    [theme=dark] .colab-df-convert {\n",
              "      background-color: #3B4455;\n",
              "      fill: #D2E3FC;\n",
              "    }\n",
              "\n",
              "    [theme=dark] .colab-df-convert:hover {\n",
              "      background-color: #434B5C;\n",
              "      box-shadow: 0px 1px 3px 1px rgba(0, 0, 0, 0.15);\n",
              "      filter: drop-shadow(0px 1px 2px rgba(0, 0, 0, 0.3));\n",
              "      fill: #FFFFFF;\n",
              "    }\n",
              "  </style>\n",
              "\n",
              "      <script>\n",
              "        const buttonEl =\n",
              "          document.querySelector('#df-4337d57e-5184-424a-8cea-933eebb8909d button.colab-df-convert');\n",
              "        buttonEl.style.display =\n",
              "          google.colab.kernel.accessAllowed ? 'block' : 'none';\n",
              "\n",
              "        async function convertToInteractive(key) {\n",
              "          const element = document.querySelector('#df-4337d57e-5184-424a-8cea-933eebb8909d');\n",
              "          const dataTable =\n",
              "            await google.colab.kernel.invokeFunction('convertToInteractive',\n",
              "                                                     [key], {});\n",
              "          if (!dataTable) return;\n",
              "\n",
              "          const docLinkHtml = 'Like what you see? Visit the ' +\n",
              "            '<a target=\"_blank\" href=https://colab.research.google.com/notebooks/data_table.ipynb>data table notebook</a>'\n",
              "            + ' to learn more about interactive tables.';\n",
              "          element.innerHTML = '';\n",
              "          dataTable['output_type'] = 'display_data';\n",
              "          await google.colab.output.renderOutput(dataTable, element);\n",
              "          const docLink = document.createElement('div');\n",
              "          docLink.innerHTML = docLinkHtml;\n",
              "          element.appendChild(docLink);\n",
              "        }\n",
              "      </script>\n",
              "    </div>\n",
              "  </div>\n",
              "  "
            ]
          },
          "metadata": {},
          "execution_count": 4
        }
      ]
    },
    {
      "cell_type": "code",
      "source": [
        "df.tail(5)"
      ],
      "metadata": {
        "colab": {
          "base_uri": "https://localhost:8080/",
          "height": 337
        },
        "id": "wsX7Kui2f2zw",
        "outputId": "bc814e38-3adc-4f5c-9d6f-4a7be5370e3b"
      },
      "execution_count": 5,
      "outputs": [
        {
          "output_type": "execute_result",
          "data": {
            "text/plain": [
              "           Date        Open        High         Low       Close   Adj Close  \\\n",
              "179  2018-03-05  175.210007  180.000000  174.270004  179.979996  179.979996   \n",
              "180  2018-03-12  180.289993  183.500000  177.619995  178.020004  178.020004   \n",
              "181  2018-03-19  177.320007  177.470001  164.940002  164.940002  164.940002   \n",
              "182  2018-03-26  168.070007  175.149994  165.190002  167.779999  167.779999   \n",
              "183  2018-03-29  167.804993  171.750000  166.899994  167.779999  167.779999   \n",
              "\n",
              "        Volume  \n",
              "179  139852700  \n",
              "180  155417500  \n",
              "181  172670700  \n",
              "182  157898400  \n",
              "183   38398505  "
            ],
            "text/html": [
              "\n",
              "  <div id=\"df-3717e85e-c9c6-459a-9ee1-c8af4855ba18\">\n",
              "    <div class=\"colab-df-container\">\n",
              "      <div>\n",
              "<style scoped>\n",
              "    .dataframe tbody tr th:only-of-type {\n",
              "        vertical-align: middle;\n",
              "    }\n",
              "\n",
              "    .dataframe tbody tr th {\n",
              "        vertical-align: top;\n",
              "    }\n",
              "\n",
              "    .dataframe thead th {\n",
              "        text-align: right;\n",
              "    }\n",
              "</style>\n",
              "<table border=\"1\" class=\"dataframe\">\n",
              "  <thead>\n",
              "    <tr style=\"text-align: right;\">\n",
              "      <th></th>\n",
              "      <th>Date</th>\n",
              "      <th>Open</th>\n",
              "      <th>High</th>\n",
              "      <th>Low</th>\n",
              "      <th>Close</th>\n",
              "      <th>Adj Close</th>\n",
              "      <th>Volume</th>\n",
              "    </tr>\n",
              "  </thead>\n",
              "  <tbody>\n",
              "    <tr>\n",
              "      <th>179</th>\n",
              "      <td>2018-03-05</td>\n",
              "      <td>175.210007</td>\n",
              "      <td>180.000000</td>\n",
              "      <td>174.270004</td>\n",
              "      <td>179.979996</td>\n",
              "      <td>179.979996</td>\n",
              "      <td>139852700</td>\n",
              "    </tr>\n",
              "    <tr>\n",
              "      <th>180</th>\n",
              "      <td>2018-03-12</td>\n",
              "      <td>180.289993</td>\n",
              "      <td>183.500000</td>\n",
              "      <td>177.619995</td>\n",
              "      <td>178.020004</td>\n",
              "      <td>178.020004</td>\n",
              "      <td>155417500</td>\n",
              "    </tr>\n",
              "    <tr>\n",
              "      <th>181</th>\n",
              "      <td>2018-03-19</td>\n",
              "      <td>177.320007</td>\n",
              "      <td>177.470001</td>\n",
              "      <td>164.940002</td>\n",
              "      <td>164.940002</td>\n",
              "      <td>164.940002</td>\n",
              "      <td>172670700</td>\n",
              "    </tr>\n",
              "    <tr>\n",
              "      <th>182</th>\n",
              "      <td>2018-03-26</td>\n",
              "      <td>168.070007</td>\n",
              "      <td>175.149994</td>\n",
              "      <td>165.190002</td>\n",
              "      <td>167.779999</td>\n",
              "      <td>167.779999</td>\n",
              "      <td>157898400</td>\n",
              "    </tr>\n",
              "    <tr>\n",
              "      <th>183</th>\n",
              "      <td>2018-03-29</td>\n",
              "      <td>167.804993</td>\n",
              "      <td>171.750000</td>\n",
              "      <td>166.899994</td>\n",
              "      <td>167.779999</td>\n",
              "      <td>167.779999</td>\n",
              "      <td>38398505</td>\n",
              "    </tr>\n",
              "  </tbody>\n",
              "</table>\n",
              "</div>\n",
              "      <button class=\"colab-df-convert\" onclick=\"convertToInteractive('df-3717e85e-c9c6-459a-9ee1-c8af4855ba18')\"\n",
              "              title=\"Convert this dataframe to an interactive table.\"\n",
              "              style=\"display:none;\">\n",
              "        \n",
              "  <svg xmlns=\"http://www.w3.org/2000/svg\" height=\"24px\"viewBox=\"0 0 24 24\"\n",
              "       width=\"24px\">\n",
              "    <path d=\"M0 0h24v24H0V0z\" fill=\"none\"/>\n",
              "    <path d=\"M18.56 5.44l.94 2.06.94-2.06 2.06-.94-2.06-.94-.94-2.06-.94 2.06-2.06.94zm-11 1L8.5 8.5l.94-2.06 2.06-.94-2.06-.94L8.5 2.5l-.94 2.06-2.06.94zm10 10l.94 2.06.94-2.06 2.06-.94-2.06-.94-.94-2.06-.94 2.06-2.06.94z\"/><path d=\"M17.41 7.96l-1.37-1.37c-.4-.4-.92-.59-1.43-.59-.52 0-1.04.2-1.43.59L10.3 9.45l-7.72 7.72c-.78.78-.78 2.05 0 2.83L4 21.41c.39.39.9.59 1.41.59.51 0 1.02-.2 1.41-.59l7.78-7.78 2.81-2.81c.8-.78.8-2.07 0-2.86zM5.41 20L4 18.59l7.72-7.72 1.47 1.35L5.41 20z\"/>\n",
              "  </svg>\n",
              "      </button>\n",
              "      \n",
              "  <style>\n",
              "    .colab-df-container {\n",
              "      display:flex;\n",
              "      flex-wrap:wrap;\n",
              "      gap: 12px;\n",
              "    }\n",
              "\n",
              "    .colab-df-convert {\n",
              "      background-color: #E8F0FE;\n",
              "      border: none;\n",
              "      border-radius: 50%;\n",
              "      cursor: pointer;\n",
              "      display: none;\n",
              "      fill: #1967D2;\n",
              "      height: 32px;\n",
              "      padding: 0 0 0 0;\n",
              "      width: 32px;\n",
              "    }\n",
              "\n",
              "    .colab-df-convert:hover {\n",
              "      background-color: #E2EBFA;\n",
              "      box-shadow: 0px 1px 2px rgba(60, 64, 67, 0.3), 0px 1px 3px 1px rgba(60, 64, 67, 0.15);\n",
              "      fill: #174EA6;\n",
              "    }\n",
              "\n",
              "    [theme=dark] .colab-df-convert {\n",
              "      background-color: #3B4455;\n",
              "      fill: #D2E3FC;\n",
              "    }\n",
              "\n",
              "    [theme=dark] .colab-df-convert:hover {\n",
              "      background-color: #434B5C;\n",
              "      box-shadow: 0px 1px 3px 1px rgba(0, 0, 0, 0.15);\n",
              "      filter: drop-shadow(0px 1px 2px rgba(0, 0, 0, 0.3));\n",
              "      fill: #FFFFFF;\n",
              "    }\n",
              "  </style>\n",
              "\n",
              "      <script>\n",
              "        const buttonEl =\n",
              "          document.querySelector('#df-3717e85e-c9c6-459a-9ee1-c8af4855ba18 button.colab-df-convert');\n",
              "        buttonEl.style.display =\n",
              "          google.colab.kernel.accessAllowed ? 'block' : 'none';\n",
              "\n",
              "        async function convertToInteractive(key) {\n",
              "          const element = document.querySelector('#df-3717e85e-c9c6-459a-9ee1-c8af4855ba18');\n",
              "          const dataTable =\n",
              "            await google.colab.kernel.invokeFunction('convertToInteractive',\n",
              "                                                     [key], {});\n",
              "          if (!dataTable) return;\n",
              "\n",
              "          const docLinkHtml = 'Like what you see? Visit the ' +\n",
              "            '<a target=\"_blank\" href=https://colab.research.google.com/notebooks/data_table.ipynb>data table notebook</a>'\n",
              "            + ' to learn more about interactive tables.';\n",
              "          element.innerHTML = '';\n",
              "          dataTable['output_type'] = 'display_data';\n",
              "          await google.colab.output.renderOutput(dataTable, element);\n",
              "          const docLink = document.createElement('div');\n",
              "          docLink.innerHTML = docLinkHtml;\n",
              "          element.appendChild(docLink);\n",
              "        }\n",
              "      </script>\n",
              "    </div>\n",
              "  </div>\n",
              "  "
            ]
          },
          "metadata": {},
          "execution_count": 5
        }
      ]
    },
    {
      "cell_type": "code",
      "source": [
        "df1 = df.reset_index()['Close']"
      ],
      "metadata": {
        "id": "uqYKobMxXLRc"
      },
      "execution_count": 6,
      "outputs": []
    },
    {
      "cell_type": "code",
      "source": [
        "df1.shape"
      ],
      "metadata": {
        "colab": {
          "base_uri": "https://localhost:8080/"
        },
        "id": "hstDWOncfwI9",
        "outputId": "68445817-4465-4fb1-d47c-d3941794b021"
      },
      "execution_count": 7,
      "outputs": [
        {
          "output_type": "execute_result",
          "data": {
            "text/plain": [
              "(184,)"
            ]
          },
          "metadata": {},
          "execution_count": 7
        }
      ]
    },
    {
      "cell_type": "code",
      "source": [
        "import matplotlib.pyplot as plt\n",
        "plt.plot(df1)"
      ],
      "metadata": {
        "colab": {
          "base_uri": "https://localhost:8080/",
          "height": 282
        },
        "id": "MEGsZHcigGcC",
        "outputId": "1f1ca657-882a-451d-e848-96cb4309ebf0"
      },
      "execution_count": 8,
      "outputs": [
        {
          "output_type": "execute_result",
          "data": {
            "text/plain": [
              "[<matplotlib.lines.Line2D at 0x7f0ce0157290>]"
            ]
          },
          "metadata": {},
          "execution_count": 8
        },
        {
          "output_type": "display_data",
          "data": {
            "text/plain": [
              "<Figure size 432x288 with 1 Axes>"
            ],
            "image/png": "[encoded data removed]"
          },
          "metadata": {
            "needs_background": "light"
          }
        }
      ]
    },
    {
      "cell_type": "code",
      "source": [
        "# LSTM are sensetive to the scale of the data. So that we apply MinMax scaler"
      ],
      "metadata": {
        "id": "4aSdiK9KjUn0"
      },
      "execution_count": 9,
      "outputs": []
    },
    {
      "cell_type": "code",
      "source": [
        "import numpy as np\n",
        "from sklearn.preprocessing import MinMaxScaler\n",
        "scaler = MinMaxScaler(feature_range=(0,1))\n",
        "df1 = scaler.fit_transform(np.array(df1).reshape(-1,1))"
      ],
      "metadata": {
        "id": "O6i42_sGgWnI"
      },
      "execution_count": 10,
      "outputs": []
    },
    {
      "cell_type": "code",
      "source": [
        "df1.shape"
      ],
      "metadata": {
        "colab": {
          "base_uri": "https://localhost:8080/"
        },
        "id": "4sDfKSDxhAiW",
        "outputId": "b69e8564-3dde-468a-bd6a-73513297a7a6"
      },
      "execution_count": 11,
      "outputs": [
        {
          "output_type": "execute_result",
          "data": {
            "text/plain": [
              "(184, 1)"
            ]
          },
          "metadata": {},
          "execution_count": 11
        }
      ]
    },
    {
      "cell_type": "code",
      "source": [
        "training_size=int(len(df1)*0.65)\n",
        "test_size=len(df1)-training_size\n",
        "train_data,test_data=df1[0:training_size,:],df1[test_size:len(df1),:1]"
      ],
      "metadata": {
        "id": "2iSLoRRIjj3Q"
      },
      "execution_count": 12,
      "outputs": []
    },
    {
      "cell_type": "code",
      "source": [
        "training_size, test_size"
      ],
      "metadata": {
        "colab": {
          "base_uri": "https://localhost:8080/"
        },
        "id": "lvg4W1J3lD6a",
        "outputId": "ce4da142-8c75-4767-da60-a92286c1bad8"
      },
      "execution_count": 13,
      "outputs": [
        {
          "output_type": "execute_result",
          "data": {
            "text/plain": [
              "(119, 65)"
            ]
          },
          "metadata": {},
          "execution_count": 13
        }
      ]
    },
    {
      "cell_type": "code",
      "source": [
        "# Convert an array of the values into a dataset matrix\n",
        "def create_dataset(dataset, time_step = 1):\n",
        "  dataX, dataY = [],[]\n",
        "  for i in range(len(dataset)-time_step-1):\n",
        "    a = dataset[i: (i+time_step), 0 ]\n",
        "    dataX.append(a)\n",
        "    dataY.append(dataset[i + time_step, 0 ])\n",
        "  return np.array(dataX), np.array(dataY)   "
      ],
      "metadata": {
        "id": "H78Y5KdklNpA"
      },
      "execution_count": 14,
      "outputs": []
    },
    {
      "cell_type": "code",
      "source": [
        "time_step = 100\n",
        "X_train, y_train = create_dataset(train_data, time_step)\n",
        "X_test, y_test = create_dataset(test_data, time_step)"
      ],
      "metadata": {
        "id": "nlwbFIptcS5g"
      },
      "execution_count": 15,
      "outputs": []
    },
    {
      "cell_type": "code",
      "source": [
        "print(X_train)"
      ],
      "metadata": {
        "colab": {
          "base_uri": "https://localhost:8080/"
        },
        "id": "2VNP-5MZe1F3",
        "outputId": "6ccd657c-4f24-49a9-8036-c4373af98d3e"
      },
      "execution_count": 16,
      "outputs": [
        {
          "output_type": "stream",
          "name": "stdout",
          "text": [
            "[[0.10172151 0.11412929 0.079924   ... 0.1974067  0.21059696 0.18354578]\n",
            " [0.11412929 0.079924   0.1643193  ... 0.21059696 0.18354578 0.19237655]\n",
            " [0.079924   0.1643193  0.19539463 ... 0.18354578 0.19237655 0.14095685]\n",
            " ...\n",
            " [0.17292646 0.251062   0.2977868  ... 0.23775994 0.21663319 0.26190476]\n",
            " [0.251062   0.2977868  0.31757214 ... 0.21663319 0.26190476 0.28448473]\n",
            " [0.2977868  0.31757214 0.40867433 ... 0.26190476 0.28448473 0.29063269]]\n"
          ]
        }
      ]
    },
    {
      "cell_type": "code",
      "source": [
        "X_test"
      ],
      "metadata": {
        "colab": {
          "base_uri": "https://localhost:8080/"
        },
        "id": "8HjieEz_izW9",
        "outputId": "97d8ed18-cf4f-46e5-9322-1c5ca3bcbafc"
      },
      "execution_count": 17,
      "outputs": [
        {
          "output_type": "execute_result",
          "data": {
            "text/plain": [
              "array([[0.16476643, 0.0719875 , 0.07388777, ..., 0.94064388, 0.89011847,\n",
              "        0.94399737],\n",
              "       [0.0719875 , 0.07388777, 0.12184218, ..., 0.89011847, 0.94399737,\n",
              "        0.90017893],\n",
              "       [0.07388777, 0.12184218, 0.07623518, ..., 0.94399737, 0.90017893,\n",
              "        0.8813995 ],\n",
              "       ...,\n",
              "       [0.21607424, 0.16946125, 0.03599375, ..., 0.9499218 , 0.95785838,\n",
              "        1.        ],\n",
              "       [0.16946125, 0.03599375, 0.02459204, ..., 0.95785838, 1.        ,\n",
              "        0.97809086],\n",
              "       [0.03599375, 0.02459204, 0.        , ..., 1.        , 0.97809086,\n",
              "        0.83188024]])"
            ]
          },
          "metadata": {},
          "execution_count": 17
        }
      ]
    },
    {
      "cell_type": "code",
      "source": [
        "X_train.shape, y_train.shape"
      ],
      "metadata": {
        "colab": {
          "base_uri": "https://localhost:8080/"
        },
        "id": "smAWZg1YlIBH",
        "outputId": "e35b5bd8-5695-4ead-b8e8-8c6ac6c3adfa"
      },
      "execution_count": 18,
      "outputs": [
        {
          "output_type": "execute_result",
          "data": {
            "text/plain": [
              "((18, 100), (18,))"
            ]
          },
          "metadata": {},
          "execution_count": 18
        }
      ]
    },
    {
      "cell_type": "code",
      "source": [
        "X_test.shape, y_test.shape"
      ],
      "metadata": {
        "colab": {
          "base_uri": "https://localhost:8080/"
        },
        "id": "EmXqxOfGfr6X",
        "outputId": "b9744aee-69c0-4e69-ea8a-2b2514c4ac2a"
      },
      "execution_count": 19,
      "outputs": [
        {
          "output_type": "execute_result",
          "data": {
            "text/plain": [
              "((18, 100), (18,))"
            ]
          },
          "metadata": {},
          "execution_count": 19
        }
      ]
    },
    {
      "cell_type": "code",
      "source": [
        "# reshape input to be [samples, time steps, features] which is required for LSTM\n",
        "X_train =X_train.reshape(X_train.shape[0],X_train.shape[1] , 1)\n",
        "X_test = X_test.reshape(X_test.shape[0],X_test.shape[1] , 1)"
      ],
      "metadata": {
        "id": "-YTh7grXldL1"
      },
      "execution_count": 20,
      "outputs": []
    },
    {
      "cell_type": "code",
      "source": [
        "# Create LSTM model\n",
        "from tensorflow.keras.models import Sequential\n",
        "from tensorflow.keras.layers import Dense\n",
        "from tensorflow.keras.layers import LSTM"
      ],
      "metadata": {
        "id": "5kdKunT8mmty"
      },
      "execution_count": 21,
      "outputs": []
    },
    {
      "cell_type": "code",
      "source": [
        "model = Sequential()\n",
        "model.add(LSTM(50, return_sequences=True, input_shape= (100,1)))\n",
        "model.add(LSTM(50,return_sequences=True))\n",
        "model.add(LSTM(50))\n",
        "model.add(Dense(1))\n",
        "model.compile(loss = 'mean_squared_error', optimizer='adam')"
      ],
      "metadata": {
        "id": "O4F3VFERm__N"
      },
      "execution_count": 22,
      "outputs": []
    },
    {
      "cell_type": "code",
      "source": [
        "model.summary()"
      ],
      "metadata": {
        "colab": {
          "base_uri": "https://localhost:8080/"
        },
        "id": "ckQmaji7n8jl",
        "outputId": "45a8b432-7804-4ecf-ecfa-92abf5a83ce8"
      },
      "execution_count": 23,
      "outputs": [
        {
          "output_type": "stream",
          "name": "stdout",
          "text": [
            "Model: \"sequential\"\n",
            "_________________________________________________________________\n",
            " Layer (type)                Output Shape              Param #   \n",
            "=================================================================\n",
            " lstm (LSTM)                 (None, 100, 50)           10400     \n",
            "                                                                 \n",
            " lstm_1 (LSTM)               (None, 100, 50)           20200     \n",
            "                                                                 \n",
            " lstm_2 (LSTM)               (None, 50)                20200     \n",
            "                                                                 \n",
            " dense (Dense)               (None, 1)                 51        \n",
            "                                                                 \n",
            "=================================================================\n",
            "Total params: 50,851\n",
            "Trainable params: 50,851\n",
            "Non-trainable params: 0\n",
            "_________________________________________________________________\n"
          ]
        }
      ]
    },
    {
      "cell_type": "code",
      "source": [
        "model.fit(X_train,y_train,validation_data=(X_train,y_test),epochs = 100, batch_size=64, verbose = 1)"
      ],
      "metadata": {
        "colab": {
          "base_uri": "https://localhost:8080/"
        },
        "id": "n6yNxHQhoC_t",
        "outputId": "0ca32275-b069-403c-fbc5-68c539042a5e"
      },
      "execution_count": 24,
      "outputs": [
        {
          "output_type": "stream",
          "name": "stdout",
          "text": [
            "Epoch 1/100\n",
            "1/1 [==============================] - 7s 7s/step - loss: 0.0528 - val_loss: 0.7099\n",
            "Epoch 2/100\n",
            "1/1 [==============================] - 0s 176ms/step - loss: 0.0328 - val_loss: 0.6193\n",
            "Epoch 3/100\n",
            "1/1 [==============================] - 0s 177ms/step - loss: 0.0161 - val_loss: 0.5177\n",
            "Epoch 4/100\n",
            "1/1 [==============================] - 0s 165ms/step - loss: 0.0044 - val_loss: 0.4057\n",
            "Epoch 5/100\n",
            "1/1 [==============================] - 0s 159ms/step - loss: 0.0027 - val_loss: 0.3295\n",
            "Epoch 6/100\n",
            "1/1 [==============================] - 0s 163ms/step - loss: 0.0108 - val_loss: 0.3302\n",
            "Epoch 7/100\n",
            "1/1 [==============================] - 0s 168ms/step - loss: 0.0107 - val_loss: 0.3649\n",
            "Epoch 8/100\n",
            "1/1 [==============================] - 0s 171ms/step - loss: 0.0060 - val_loss: 0.4099\n",
            "Epoch 9/100\n",
            "1/1 [==============================] - 0s 160ms/step - loss: 0.0026 - val_loss: 0.4525\n",
            "Epoch 10/100\n",
            "1/1 [==============================] - 0s 173ms/step - loss: 0.0018 - val_loss: 0.4862\n",
            "Epoch 11/100\n",
            "1/1 [==============================] - 0s 172ms/step - loss: 0.0026 - val_loss: 0.5091\n",
            "Epoch 12/100\n",
            "1/1 [==============================] - 0s 165ms/step - loss: 0.0038 - val_loss: 0.5212\n",
            "Epoch 13/100\n",
            "1/1 [==============================] - 0s 229ms/step - loss: 0.0047 - val_loss: 0.5239\n",
            "Epoch 14/100\n",
            "1/1 [==============================] - 0s 277ms/step - loss: 0.0049 - val_loss: 0.5191\n",
            "Epoch 15/100\n",
            "1/1 [==============================] - 0s 276ms/step - loss: 0.0045 - val_loss: 0.5083\n",
            "Epoch 16/100\n",
            "1/1 [==============================] - 0s 236ms/step - loss: 0.0038 - val_loss: 0.4932\n",
            "Epoch 17/100\n",
            "1/1 [==============================] - 0s 247ms/step - loss: 0.0029 - val_loss: 0.4753\n",
            "Epoch 18/100\n",
            "1/1 [==============================] - 0s 363ms/step - loss: 0.0022 - val_loss: 0.4564\n",
            "Epoch 19/100\n",
            "1/1 [==============================] - 1s 505ms/step - loss: 0.0018 - val_loss: 0.4382\n",
            "Epoch 20/100\n",
            "1/1 [==============================] - 0s 325ms/step - loss: 0.0017 - val_loss: 0.4226\n",
            "Epoch 21/100\n",
            "1/1 [==============================] - 0s 181ms/step - loss: 0.0020 - val_loss: 0.4112\n",
            "Epoch 22/100\n",
            "1/1 [==============================] - 0s 366ms/step - loss: 0.0024 - val_loss: 0.4051\n",
            "Epoch 23/100\n",
            "1/1 [==============================] - 0s 400ms/step - loss: 0.0027 - val_loss: 0.4047\n",
            "Epoch 24/100\n",
            "1/1 [==============================] - 0s 378ms/step - loss: 0.0027 - val_loss: 0.4092\n",
            "Epoch 25/100\n",
            "1/1 [==============================] - 0s 353ms/step - loss: 0.0025 - val_loss: 0.4174\n",
            "Epoch 26/100\n",
            "1/1 [==============================] - 0s 334ms/step - loss: 0.0021 - val_loss: 0.4277\n",
            "Epoch 27/100\n",
            "1/1 [==============================] - 0s 403ms/step - loss: 0.0018 - val_loss: 0.4387\n",
            "Epoch 28/100\n",
            "1/1 [==============================] - 0s 260ms/step - loss: 0.0017 - val_loss: 0.4492\n",
            "Epoch 29/100\n",
            "1/1 [==============================] - 0s 188ms/step - loss: 0.0017 - val_loss: 0.4581\n",
            "Epoch 30/100\n",
            "1/1 [==============================] - 0s 179ms/step - loss: 0.0017 - val_loss: 0.4649\n",
            "Epoch 31/100\n",
            "1/1 [==============================] - 0s 237ms/step - loss: 0.0018 - val_loss: 0.4694\n",
            "Epoch 32/100\n",
            "1/1 [==============================] - 0s 154ms/step - loss: 0.0020 - val_loss: 0.4713\n",
            "Epoch 33/100\n",
            "1/1 [==============================] - 0s 368ms/step - loss: 0.0020 - val_loss: 0.4708\n",
            "Epoch 34/100\n",
            "1/1 [==============================] - 1s 618ms/step - loss: 0.0020 - val_loss: 0.4682\n",
            "Epoch 35/100\n",
            "1/1 [==============================] - 0s 361ms/step - loss: 0.0019 - val_loss: 0.4639\n",
            "Epoch 36/100\n",
            "1/1 [==============================] - 0s 311ms/step - loss: 0.0018 - val_loss: 0.4584\n",
            "Epoch 37/100\n",
            "1/1 [==============================] - 0s 255ms/step - loss: 0.0017 - val_loss: 0.4521\n",
            "Epoch 38/100\n",
            "1/1 [==============================] - 0s 267ms/step - loss: 0.0016 - val_loss: 0.4458\n",
            "Epoch 39/100\n",
            "1/1 [==============================] - 0s 162ms/step - loss: 0.0016 - val_loss: 0.4400\n",
            "Epoch 40/100\n",
            "1/1 [==============================] - 0s 283ms/step - loss: 0.0016 - val_loss: 0.4353\n",
            "Epoch 41/100\n",
            "1/1 [==============================] - 0s 277ms/step - loss: 0.0017 - val_loss: 0.4320\n",
            "Epoch 42/100\n",
            "1/1 [==============================] - 0s 298ms/step - loss: 0.0017 - val_loss: 0.4305\n",
            "Epoch 43/100\n",
            "1/1 [==============================] - 0s 287ms/step - loss: 0.0017 - val_loss: 0.4307\n",
            "Epoch 44/100\n",
            "1/1 [==============================] - 0s 256ms/step - loss: 0.0017 - val_loss: 0.4325\n",
            "Epoch 45/100\n",
            "1/1 [==============================] - 0s 270ms/step - loss: 0.0017 - val_loss: 0.4355\n",
            "Epoch 46/100\n",
            "1/1 [==============================] - 0s 231ms/step - loss: 0.0017 - val_loss: 0.4393\n",
            "Epoch 47/100\n",
            "1/1 [==============================] - 0s 256ms/step - loss: 0.0016 - val_loss: 0.4433\n",
            "Epoch 48/100\n",
            "1/1 [==============================] - 0s 240ms/step - loss: 0.0016 - val_loss: 0.4471\n",
            "Epoch 49/100\n",
            "1/1 [==============================] - 0s 234ms/step - loss: 0.0016 - val_loss: 0.4504\n",
            "Epoch 50/100\n",
            "1/1 [==============================] - 0s 472ms/step - loss: 0.0016 - val_loss: 0.4528\n",
            "Epoch 51/100\n",
            "1/1 [==============================] - 0s 348ms/step - loss: 0.0016 - val_loss: 0.4543\n",
            "Epoch 52/100\n",
            "1/1 [==============================] - 0s 271ms/step - loss: 0.0016 - val_loss: 0.4547\n",
            "Epoch 53/100\n",
            "1/1 [==============================] - 0s 165ms/step - loss: 0.0017 - val_loss: 0.4541\n",
            "Epoch 54/100\n",
            "1/1 [==============================] - 0s 298ms/step - loss: 0.0016 - val_loss: 0.4526\n",
            "Epoch 55/100\n",
            "1/1 [==============================] - 0s 171ms/step - loss: 0.0016 - val_loss: 0.4505\n",
            "Epoch 56/100\n",
            "1/1 [==============================] - 0s 254ms/step - loss: 0.0016 - val_loss: 0.4481\n",
            "Epoch 57/100\n",
            "1/1 [==============================] - 0s 235ms/step - loss: 0.0016 - val_loss: 0.4456\n",
            "Epoch 58/100\n",
            "1/1 [==============================] - 0s 242ms/step - loss: 0.0016 - val_loss: 0.4432\n",
            "Epoch 59/100\n",
            "1/1 [==============================] - 0s 256ms/step - loss: 0.0016 - val_loss: 0.4413\n",
            "Epoch 60/100\n",
            "1/1 [==============================] - 0s 236ms/step - loss: 0.0016 - val_loss: 0.4400\n",
            "Epoch 61/100\n",
            "1/1 [==============================] - 0s 167ms/step - loss: 0.0016 - val_loss: 0.4395\n",
            "Epoch 62/100\n",
            "1/1 [==============================] - 0s 277ms/step - loss: 0.0016 - val_loss: 0.4396\n",
            "Epoch 63/100\n",
            "1/1 [==============================] - 0s 205ms/step - loss: 0.0016 - val_loss: 0.4404\n",
            "Epoch 64/100\n",
            "1/1 [==============================] - 0s 220ms/step - loss: 0.0016 - val_loss: 0.4417\n",
            "Epoch 65/100\n",
            "1/1 [==============================] - 0s 167ms/step - loss: 0.0016 - val_loss: 0.4432\n",
            "Epoch 66/100\n",
            "1/1 [==============================] - 0s 247ms/step - loss: 0.0016 - val_loss: 0.4449\n",
            "Epoch 67/100\n",
            "1/1 [==============================] - 0s 245ms/step - loss: 0.0016 - val_loss: 0.4464\n",
            "Epoch 68/100\n",
            "1/1 [==============================] - 0s 264ms/step - loss: 0.0016 - val_loss: 0.4476\n",
            "Epoch 69/100\n",
            "1/1 [==============================] - 0s 277ms/step - loss: 0.0016 - val_loss: 0.4484\n",
            "Epoch 70/100\n",
            "1/1 [==============================] - 0s 256ms/step - loss: 0.0016 - val_loss: 0.4488\n",
            "Epoch 71/100\n",
            "1/1 [==============================] - 0s 203ms/step - loss: 0.0016 - val_loss: 0.4486\n",
            "Epoch 72/100\n",
            "1/1 [==============================] - 0s 319ms/step - loss: 0.0016 - val_loss: 0.4481\n",
            "Epoch 73/100\n",
            "1/1 [==============================] - 0s 165ms/step - loss: 0.0016 - val_loss: 0.4473\n",
            "Epoch 74/100\n",
            "1/1 [==============================] - 0s 206ms/step - loss: 0.0016 - val_loss: 0.4463\n",
            "Epoch 75/100\n",
            "1/1 [==============================] - 0s 291ms/step - loss: 0.0016 - val_loss: 0.4452\n",
            "Epoch 76/100\n",
            "1/1 [==============================] - 0s 209ms/step - loss: 0.0016 - val_loss: 0.4442\n",
            "Epoch 77/100\n",
            "1/1 [==============================] - 0s 297ms/step - loss: 0.0016 - val_loss: 0.4434\n",
            "Epoch 78/100\n",
            "1/1 [==============================] - 0s 250ms/step - loss: 0.0016 - val_loss: 0.4429\n",
            "Epoch 79/100\n",
            "1/1 [==============================] - 0s 367ms/step - loss: 0.0016 - val_loss: 0.4427\n",
            "Epoch 80/100\n",
            "1/1 [==============================] - 0s 191ms/step - loss: 0.0016 - val_loss: 0.4428\n",
            "Epoch 81/100\n",
            "1/1 [==============================] - 0s 173ms/step - loss: 0.0016 - val_loss: 0.4432\n",
            "Epoch 82/100\n",
            "1/1 [==============================] - 0s 255ms/step - loss: 0.0016 - val_loss: 0.4438\n",
            "Epoch 83/100\n",
            "1/1 [==============================] - 0s 188ms/step - loss: 0.0016 - val_loss: 0.4445\n",
            "Epoch 84/100\n",
            "1/1 [==============================] - 0s 220ms/step - loss: 0.0016 - val_loss: 0.4452\n",
            "Epoch 85/100\n",
            "1/1 [==============================] - 0s 249ms/step - loss: 0.0016 - val_loss: 0.4458\n",
            "Epoch 86/100\n",
            "1/1 [==============================] - 0s 168ms/step - loss: 0.0016 - val_loss: 0.4462\n",
            "Epoch 87/100\n",
            "1/1 [==============================] - 0s 270ms/step - loss: 0.0016 - val_loss: 0.4464\n",
            "Epoch 88/100\n",
            "1/1 [==============================] - 0s 236ms/step - loss: 0.0016 - val_loss: 0.4465\n",
            "Epoch 89/100\n",
            "1/1 [==============================] - 0s 247ms/step - loss: 0.0016 - val_loss: 0.4463\n",
            "Epoch 90/100\n",
            "1/1 [==============================] - 0s 180ms/step - loss: 0.0016 - val_loss: 0.4459\n",
            "Epoch 91/100\n",
            "1/1 [==============================] - 0s 207ms/step - loss: 0.0016 - val_loss: 0.4455\n",
            "Epoch 92/100\n",
            "1/1 [==============================] - 0s 222ms/step - loss: 0.0016 - val_loss: 0.4450\n",
            "Epoch 93/100\n",
            "1/1 [==============================] - 0s 193ms/step - loss: 0.0016 - val_loss: 0.4446\n",
            "Epoch 94/100\n",
            "1/1 [==============================] - 0s 256ms/step - loss: 0.0016 - val_loss: 0.4442\n",
            "Epoch 95/100\n",
            "1/1 [==============================] - 0s 273ms/step - loss: 0.0016 - val_loss: 0.4440\n",
            "Epoch 96/100\n",
            "1/1 [==============================] - 0s 292ms/step - loss: 0.0016 - val_loss: 0.4439\n",
            "Epoch 97/100\n",
            "1/1 [==============================] - 0s 359ms/step - loss: 0.0016 - val_loss: 0.4440\n",
            "Epoch 98/100\n",
            "1/1 [==============================] - 0s 295ms/step - loss: 0.0016 - val_loss: 0.4442\n",
            "Epoch 99/100\n",
            "1/1 [==============================] - 0s 195ms/step - loss: 0.0016 - val_loss: 0.4445\n",
            "Epoch 100/100\n",
            "1/1 [==============================] - 0s 238ms/step - loss: 0.0016 - val_loss: 0.4448\n"
          ]
        },
        {
          "output_type": "execute_result",
          "data": {
            "text/plain": [
              "<keras.callbacks.History at 0x7f0c6f889bd0>"
            ]
          },
          "metadata": {},
          "execution_count": 24
        }
      ]
    },
    {
      "cell_type": "code",
      "source": [
        "import tensorflow as tf\n",
        "tf.__version__"
      ],
      "metadata": {
        "colab": {
          "base_uri": "https://localhost:8080/",
          "height": 35
        },
        "id": "ATn9hBABqLp0",
        "outputId": "39268755-2ac5-4a41-eab5-94ab6a30f509"
      },
      "execution_count": 25,
      "outputs": [
        {
          "output_type": "execute_result",
          "data": {
            "text/plain": [
              "'2.8.2'"
            ],
            "application/vnd.google.colaboratory.intrinsic+json": {
              "type": "string"
            }
          },
          "metadata": {},
          "execution_count": 25
        }
      ]
    },
    {
      "cell_type": "code",
      "source": [
        "# Lets Do the prediction and check performance metrics\n",
        "train_predict = model.predict(X_train)\n",
        "test_predict = model.predict(X_test)"
      ],
      "metadata": {
        "id": "iA1pnCdyrV_O"
      },
      "execution_count": 26,
      "outputs": []
    },
    {
      "cell_type": "code",
      "source": [
        "# Transform ban=ck to the original data\n",
        "trian_predict = scaler.inverse_transform(train_predict)\n",
        "test_predict = scaler.inverse_transform(test_predict)"
      ],
      "metadata": {
        "id": "SKFyjBvCrkNz"
      },
      "execution_count": 27,
      "outputs": []
    },
    {
      "cell_type": "code",
      "source": [
        "# Calculate RMSE performance metrics\n",
        "import math\n",
        "from sklearn.metrics import mean_squared_error\n",
        "math.sqrt(mean_squared_error(y_train, train_predict))"
      ],
      "metadata": {
        "colab": {
          "base_uri": "https://localhost:8080/"
        },
        "id": "I5sjGXDcsNxR",
        "outputId": "9abd3555-649d-4373-fd70-acb418039a10"
      },
      "execution_count": 28,
      "outputs": [
        {
          "output_type": "execute_result",
          "data": {
            "text/plain": [
              "0.03968235825322906"
            ]
          },
          "metadata": {},
          "execution_count": 28
        }
      ]
    },
    {
      "cell_type": "code",
      "source": [
        "# Test data RMSE\n",
        "math.sqrt(mean_squared_error(y_test, test_predict))"
      ],
      "metadata": {
        "colab": {
          "base_uri": "https://localhost:8080/"
        },
        "id": "6zS24ppZtUhm",
        "outputId": "4cab7815-e82c-4360-c9de-a4765641069e"
      },
      "execution_count": 29,
      "outputs": [
        {
          "output_type": "execute_result",
          "data": {
            "text/plain": [
              "132.62084152449404"
            ]
          },
          "metadata": {},
          "execution_count": 29
        }
      ]
    },
    {
      "cell_type": "code",
      "source": [
        "### Plotting \n",
        "# shift train predictions for plotting\n",
        "look_back=100\n",
        "trainPredictPlot = np.empty_like(df1)\n",
        "trainPredictPlot[:, :] = np.nan\n",
        "trainPredictPlot[look_back:len(train_predict)+look_back, :] = train_predict\n",
        "# shift test predictions for plotting\n",
        "testPredictPlot = np.empty_like(df1)\n",
        "testPredictPlot[:, :] = np.nan\n",
        "testPredictPlot[len(train_predict)+(look_back*2)+1:len(df1)-1, :] = test_predict\n",
        "# plot baseline and predictions\n",
        "plt.plot(scaler.inverse_transform(df1))\n",
        "plt.plot(trainPredictPlot)\n",
        "plt.plot(testPredictPlot)\n",
        "plt.show()"
      ],
      "metadata": {
        "colab": {
          "base_uri": "https://localhost:8080/",
          "height": 253
        },
        "id": "tSXeceMutnBp",
        "outputId": "596cdb6c-d2d1-422d-be73-04f9b4a0cefd"
      },
      "execution_count": 38,
      "outputs": [
        {
          "output_type": "error",
          "ename": "ValueError",
          "evalue": "ignored",
          "traceback": [
            "\u001b[0;31m---------------------------------------------------------------------------\u001b[0m",
            "\u001b[0;31mValueError\u001b[0m                                Traceback (most recent call last)",
            "\u001b[0;32m<ipython-input-38-8f201801cd6d>\u001b[0m in \u001b[0;36m<module>\u001b[0;34m()\u001b[0m\n\u001b[1;32m      8\u001b[0m \u001b[0mtestPredictPlot\u001b[0m \u001b[0;34m=\u001b[0m \u001b[0mnp\u001b[0m\u001b[0;34m.\u001b[0m\u001b[0mempty_like\u001b[0m\u001b[0;34m(\u001b[0m\u001b[0mdf1\u001b[0m\u001b[0;34m)\u001b[0m\u001b[0;34m\u001b[0m\u001b[0;34m\u001b[0m\u001b[0m\n\u001b[1;32m      9\u001b[0m \u001b[0mtestPredictPlot\u001b[0m\u001b[0;34m[\u001b[0m\u001b[0;34m:\u001b[0m\u001b[0;34m,\u001b[0m \u001b[0;34m:\u001b[0m\u001b[0;34m]\u001b[0m \u001b[0;34m=\u001b[0m \u001b[0mnp\u001b[0m\u001b[0;34m.\u001b[0m\u001b[0mnan\u001b[0m\u001b[0;34m\u001b[0m\u001b[0;34m\u001b[0m\u001b[0m\n\u001b[0;32m---> 10\u001b[0;31m \u001b[0mtestPredictPlot\u001b[0m\u001b[0;34m[\u001b[0m\u001b[0mlen\u001b[0m\u001b[0;34m(\u001b[0m\u001b[0mtrain_predict\u001b[0m\u001b[0;34m)\u001b[0m\u001b[0;34m+\u001b[0m\u001b[0;34m(\u001b[0m\u001b[0mlook_back\u001b[0m\u001b[0;34m*\u001b[0m\u001b[0;36m2\u001b[0m\u001b[0;34m)\u001b[0m\u001b[0;34m+\u001b[0m\u001b[0;36m1\u001b[0m\u001b[0;34m:\u001b[0m\u001b[0mlen\u001b[0m\u001b[0;34m(\u001b[0m\u001b[0mdf1\u001b[0m\u001b[0;34m)\u001b[0m\u001b[0;34m-\u001b[0m\u001b[0;36m1\u001b[0m\u001b[0;34m,\u001b[0m \u001b[0;34m:\u001b[0m\u001b[0;34m]\u001b[0m \u001b[0;34m=\u001b[0m \u001b[0mtest_predict\u001b[0m\u001b[0;34m\u001b[0m\u001b[0;34m\u001b[0m\u001b[0m\n\u001b[0m\u001b[1;32m     11\u001b[0m \u001b[0;31m# plot baseline and predictions\u001b[0m\u001b[0;34m\u001b[0m\u001b[0;34m\u001b[0m\u001b[0;34m\u001b[0m\u001b[0m\n\u001b[1;32m     12\u001b[0m \u001b[0mplt\u001b[0m\u001b[0;34m.\u001b[0m\u001b[0mplot\u001b[0m\u001b[0;34m(\u001b[0m\u001b[0mscaler\u001b[0m\u001b[0;34m.\u001b[0m\u001b[0minverse_transform\u001b[0m\u001b[0;34m(\u001b[0m\u001b[0mdf1\u001b[0m\u001b[0;34m)\u001b[0m\u001b[0;34m)\u001b[0m\u001b[0;34m\u001b[0m\u001b[0;34m\u001b[0m\u001b[0m\n",
            "\u001b[0;31mValueError\u001b[0m: could not broadcast input array from shape (18,1) into shape (0,1)"
          ]
        }
      ]
    }
  ]
}