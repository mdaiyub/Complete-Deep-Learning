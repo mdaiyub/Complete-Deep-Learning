{
  "nbformat": 4,
  "nbformat_minor": 0,
  "metadata": {
    "colab": {
      "name": "A hybrid \"CNN-SVM\" Neural Network For Image Classification.ipynb",
      "provenance": [],
      "collapsed_sections": []
    },
    "kernelspec": {
      "name": "python3",
      "display_name": "Python 3"
    },
    "language_info": {
      "name": "python"
    },
    "accelerator": "GPU",
    "gpuClass": "standard"
  },
  "cells": [
    {
      "cell_type": "code",
      "execution_count": 1,
      "metadata": {
        "colab": {
          "base_uri": "https://localhost:8080/"
        },
        "id": "fiLOQcmBBTFe",
        "outputId": "eee23148-1b85-44a1-9f54-ef480e13ec9f"
      },
      "outputs": [
        {
          "output_type": "stream",
          "name": "stdout",
          "text": [
            "NVIDIA-SMI has failed because it couldn't communicate with the NVIDIA driver. Make sure that the latest NVIDIA driver is installed and running.\n",
            "\n"
          ]
        }
      ],
      "source": [
        "!nvidia-smi"
      ]
    },
    {
      "cell_type": "code",
      "source": [
        "import tensorflow as tf\n",
        "from tensorflow.keras.preprocessing.image import ImageDataGenerator"
      ],
      "metadata": {
        "id": "rlgnqRGcBdgz"
      },
      "execution_count": 2,
      "outputs": []
    },
    {
      "cell_type": "code",
      "source": [
        "tf.__version__"
      ],
      "metadata": {
        "colab": {
          "base_uri": "https://localhost:8080/",
          "height": 35
        },
        "id": "FC5gyNxCD8e_",
        "outputId": "f6ec1214-f40d-4ba5-a1b9-16a2fe5ed9d5"
      },
      "execution_count": 3,
      "outputs": [
        {
          "output_type": "execute_result",
          "data": {
            "text/plain": [
              "'2.8.2'"
            ],
            "application/vnd.google.colaboratory.intrinsic+json": {
              "type": "string"
            }
          },
          "metadata": {},
          "execution_count": 3
        }
      ]
    },
    {
      "cell_type": "code",
      "source": [
        "train_datagen = ImageDataGenerator(rescale = 1./255,\n",
        "                                   shear_range = 0.2,\n",
        "                                   zoom_range = 0.2,\n",
        "                                   horizontal_flip = True)\n",
        "test_datagen = ImageDataGenerator(1./255)"
      ],
      "metadata": {
        "id": "gaKvu3VrEAiI"
      },
      "execution_count": 4,
      "outputs": []
    },
    {
      "cell_type": "code",
      "source": [
        "training_set = train_datagen.flow_from_directory('/content/drive/MyDrive/Dataset/train',\n",
        "                                                 target_size = (64, 64),\n",
        "                                                 batch_size = 32,\n",
        "                                                 class_mode = 'categorical')\n",
        "test_set = train_datagen.flow_from_directory('/content/drive/MyDrive/Dataset/valid',\n",
        "                                             target_size = (64, 64),\n",
        "                                             batch_size = 32,\n",
        "                                             class_mode = 'categorical')"
      ],
      "metadata": {
        "colab": {
          "base_uri": "https://localhost:8080/"
        },
        "id": "hdV774k8EcjP",
        "outputId": "73aedb35-d975-4a9d-cb89-a37d33486e2b"
      },
      "execution_count": 5,
      "outputs": [
        {
          "output_type": "stream",
          "name": "stdout",
          "text": [
            "Found 18345 images belonging to 10 classes.\n",
            "Found 4585 images belonging to 10 classes.\n"
          ]
        }
      ]
    },
    {
      "cell_type": "code",
      "source": [
        "from tensorflow.keras.layers import Conv2D, MaxPooling2D, Flatten\n",
        "from tensorflow.keras.layers import Dense\n",
        "from tensorflow.keras.models import Sequential\n",
        "from tensorflow.keras.regularizers import l2"
      ],
      "metadata": {
        "id": "Y3xqooXjF0eN"
      },
      "execution_count": 6,
      "outputs": []
    },
    {
      "cell_type": "code",
      "source": [
        "# Building the CNN model\n",
        "# Initializing the CNN model\n",
        "cnn = Sequential()\n",
        "# Step 1- Convolutional\n",
        "cnn.add(Conv2D(filters = 32, padding = 'same', kernel_size = 3, activation = 'relu', strides= 2, input_shape = [64, 64, 3]))\n",
        "# Step-2 Pooling\n",
        "cnn.add(MaxPooling2D(pool_size= 2, strides = 2))\n",
        "# Adding a second convolutional layer\n",
        "cnn.add(Conv2D(filters = 32, padding = 'same', kernel_size = 3, activation = 'relu'))\n",
        "cnn.add(MaxPooling2D(pool_size= 2, strides = 2))\n",
        "# Step-3 Flattening \n",
        "cnn.add(Flatten())\n",
        "# Step-4 Full Connection\n",
        "cnn.add(Dense(units=128, activation = 'relu'))\n",
        "# Step-5 Output Layer\n",
        "# For Binary classification\n",
        "# cnn.add(Dense(1, kernel_regularizer= = l2(0.01), activation = 'linear'))\n",
        "cnn.add(Dense(10, kernel_regularizer= l2(0.01), activation = 'softmax'))\n",
        "cnn.compile(optimizer = 'adam', loss = 'squared_hinge', metrics = ['accuracy'])"
      ],
      "metadata": {
        "id": "ZpZxEAltGqs2"
      },
      "execution_count": 7,
      "outputs": []
    },
    {
      "cell_type": "code",
      "source": [
        "cnn.summary()"
      ],
      "metadata": {
        "colab": {
          "base_uri": "https://localhost:8080/"
        },
        "id": "F12__jSJKxod",
        "outputId": "d1f81b02-e517-4136-d247-3916a2f58d69"
      },
      "execution_count": 8,
      "outputs": [
        {
          "output_type": "stream",
          "name": "stdout",
          "text": [
            "Model: \"sequential\"\n",
            "_________________________________________________________________\n",
            " Layer (type)                Output Shape              Param #   \n",
            "=================================================================\n",
            " conv2d (Conv2D)             (None, 32, 32, 32)        896       \n",
            "                                                                 \n",
            " max_pooling2d (MaxPooling2D  (None, 16, 16, 32)       0         \n",
            " )                                                               \n",
            "                                                                 \n",
            " conv2d_1 (Conv2D)           (None, 16, 16, 32)        9248      \n",
            "                                                                 \n",
            " max_pooling2d_1 (MaxPooling  (None, 8, 8, 32)         0         \n",
            " 2D)                                                             \n",
            "                                                                 \n",
            " flatten (Flatten)           (None, 2048)              0         \n",
            "                                                                 \n",
            " dense (Dense)               (None, 128)               262272    \n",
            "                                                                 \n",
            " dense_1 (Dense)             (None, 10)                1290      \n",
            "                                                                 \n",
            "=================================================================\n",
            "Total params: 273,706\n",
            "Trainable params: 273,706\n",
            "Non-trainable params: 0\n",
            "_________________________________________________________________\n"
          ]
        }
      ]
    },
    {
      "cell_type": "code",
      "source": [
        "r = cnn.fit(x = training_set, validation_data = test_set, epochs = 30)"
      ],
      "metadata": {
        "colab": {
          "base_uri": "https://localhost:8080/"
        },
        "id": "a83bZDCyPIN5",
        "outputId": "8be3a30b-7492-4a97-a3b5-a974f8ee2cde"
      },
      "execution_count": 9,
      "outputs": [
        {
          "output_type": "stream",
          "name": "stdout",
          "text": [
            "Epoch 1/30\n",
            "574/574 [==============================] - 129s 223ms/step - loss: 1.1173 - accuracy: 0.4797 - val_loss: 1.0577 - val_accuracy: 0.6205\n",
            "Epoch 2/30\n",
            "574/574 [==============================] - 125s 218ms/step - loss: 1.0285 - accuracy: 0.6993 - val_loss: 1.0111 - val_accuracy: 0.7459\n",
            "Epoch 3/30\n",
            "574/574 [==============================] - 124s 216ms/step - loss: 1.0055 - accuracy: 0.7578 - val_loss: 0.9918 - val_accuracy: 0.7943\n",
            "Epoch 4/30\n",
            "574/574 [==============================] - 123s 215ms/step - loss: 0.9904 - accuracy: 0.7977 - val_loss: 0.9940 - val_accuracy: 0.7799\n",
            "Epoch 5/30\n",
            "574/574 [==============================] - 125s 219ms/step - loss: 0.9829 - accuracy: 0.8147 - val_loss: 0.9933 - val_accuracy: 0.7756\n",
            "Epoch 6/30\n",
            "574/574 [==============================] - 124s 216ms/step - loss: 0.9772 - accuracy: 0.8263 - val_loss: 0.9755 - val_accuracy: 0.8360\n",
            "Epoch 7/30\n",
            "574/574 [==============================] - 124s 217ms/step - loss: 0.9696 - accuracy: 0.8473 - val_loss: 0.9684 - val_accuracy: 0.8469\n",
            "Epoch 8/30\n",
            "574/574 [==============================] - 125s 218ms/step - loss: 0.9668 - accuracy: 0.8522 - val_loss: 0.9590 - val_accuracy: 0.8707\n",
            "Epoch 9/30\n",
            "574/574 [==============================] - 124s 216ms/step - loss: 0.9646 - accuracy: 0.8554 - val_loss: 0.9746 - val_accuracy: 0.8266\n",
            "Epoch 10/30\n",
            "574/574 [==============================] - 124s 215ms/step - loss: 0.9598 - accuracy: 0.8690 - val_loss: 0.9656 - val_accuracy: 0.8526\n",
            "Epoch 11/30\n",
            "574/574 [==============================] - 124s 216ms/step - loss: 0.9579 - accuracy: 0.8729 - val_loss: 0.9575 - val_accuracy: 0.8722\n",
            "Epoch 12/30\n",
            "574/574 [==============================] - 128s 222ms/step - loss: 0.9545 - accuracy: 0.8806 - val_loss: 0.9518 - val_accuracy: 0.8857\n",
            "Epoch 13/30\n",
            "574/574 [==============================] - 126s 219ms/step - loss: 0.9530 - accuracy: 0.8839 - val_loss: 0.9547 - val_accuracy: 0.8818\n",
            "Epoch 14/30\n",
            "574/574 [==============================] - 128s 223ms/step - loss: 0.9520 - accuracy: 0.8851 - val_loss: 0.9560 - val_accuracy: 0.8733\n",
            "Epoch 15/30\n",
            "574/574 [==============================] - 135s 235ms/step - loss: 0.9500 - accuracy: 0.8911 - val_loss: 0.9475 - val_accuracy: 0.8962\n",
            "Epoch 16/30\n",
            "574/574 [==============================] - 129s 224ms/step - loss: 0.9487 - accuracy: 0.8940 - val_loss: 0.9483 - val_accuracy: 0.8947\n",
            "Epoch 17/30\n",
            "574/574 [==============================] - 125s 218ms/step - loss: 0.9456 - accuracy: 0.9031 - val_loss: 0.9454 - val_accuracy: 0.8997\n",
            "Epoch 18/30\n",
            "574/574 [==============================] - 125s 218ms/step - loss: 0.9451 - accuracy: 0.9028 - val_loss: 0.9437 - val_accuracy: 0.9053\n",
            "Epoch 19/30\n",
            "574/574 [==============================] - 143s 250ms/step - loss: 0.9454 - accuracy: 0.9034 - val_loss: 0.9404 - val_accuracy: 0.9182\n",
            "Epoch 20/30\n",
            "574/574 [==============================] - 124s 216ms/step - loss: 0.9423 - accuracy: 0.9111 - val_loss: 0.9394 - val_accuracy: 0.9171\n",
            "Epoch 21/30\n",
            "574/574 [==============================] - 130s 227ms/step - loss: 0.9407 - accuracy: 0.9137 - val_loss: 0.9383 - val_accuracy: 0.9206\n",
            "Epoch 22/30\n",
            "574/574 [==============================] - 127s 222ms/step - loss: 0.9415 - accuracy: 0.9110 - val_loss: 0.9457 - val_accuracy: 0.8981\n",
            "Epoch 23/30\n",
            "574/574 [==============================] - 130s 227ms/step - loss: 0.9415 - accuracy: 0.9108 - val_loss: 0.9456 - val_accuracy: 0.8988\n",
            "Epoch 24/30\n",
            "574/574 [==============================] - 126s 220ms/step - loss: 0.9381 - accuracy: 0.9206 - val_loss: 0.9399 - val_accuracy: 0.9162\n",
            "Epoch 25/30\n",
            "574/574 [==============================] - 125s 218ms/step - loss: 0.9389 - accuracy: 0.9180 - val_loss: 0.9392 - val_accuracy: 0.9182\n",
            "Epoch 26/30\n",
            "574/574 [==============================] - 123s 214ms/step - loss: 0.9363 - accuracy: 0.9236 - val_loss: 0.9410 - val_accuracy: 0.9091\n",
            "Epoch 27/30\n",
            "574/574 [==============================] - 125s 219ms/step - loss: 0.9377 - accuracy: 0.9210 - val_loss: 0.9375 - val_accuracy: 0.9197\n",
            "Epoch 28/30\n",
            "574/574 [==============================] - 124s 216ms/step - loss: 0.9336 - accuracy: 0.9315 - val_loss: 0.9350 - val_accuracy: 0.9265\n",
            "Epoch 29/30\n",
            "574/574 [==============================] - 130s 226ms/step - loss: 0.9348 - accuracy: 0.9278 - val_loss: 0.9450 - val_accuracy: 0.8999\n",
            "Epoch 30/30\n",
            "574/574 [==============================] - 126s 219ms/step - loss: 0.9344 - accuracy: 0.9286 - val_loss: 0.9336 - val_accuracy: 0.9309\n"
          ]
        }
      ]
    }
  ]
}