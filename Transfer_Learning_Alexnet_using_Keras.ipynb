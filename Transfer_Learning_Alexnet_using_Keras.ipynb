{
  "nbformat": 4,
  "nbformat_minor": 0,
  "metadata": {
    "colab": {
      "name": "Transfer Learning Alexnet using  Keras.ipynb",
      "provenance": []
    },
    "kernelspec": {
      "name": "python3",
      "display_name": "Python 3"
    },
    "language_info": {
      "name": "python"
    },
    "accelerator": "GPU",
    "gpuClass": "standard"
  },
  "cells": [
    {
      "cell_type": "code",
      "execution_count": null,
      "metadata": {
        "colab": {
          "base_uri": "https://localhost:8080/",
          "height": 35
        },
        "id": "qT-U01EncVpz",
        "outputId": "514c4326-54ec-4a04-ac3b-29186b8b35da"
      },
      "outputs": [
        {
          "output_type": "execute_result",
          "data": {
            "text/plain": [
              "'2.8.2'"
            ],
            "application/vnd.google.colaboratory.intrinsic+json": {
              "type": "string"
            }
          },
          "metadata": {},
          "execution_count": 1
        }
      ],
      "source": [
        "import tensorflow as tf\n",
        "tf.__version__"
      ]
    },
    {
      "cell_type": "code",
      "source": [
        "import tensorflow.keras\n",
        "from tensorflow.keras.models import Sequential\n",
        "from tensorflow.keras.layers import Dense, Activation, Dropout, Flatten,\\\n",
        "Conv2D, MaxPooling2D,BatchNormalization"
      ],
      "metadata": {
        "id": "fBZaPiW6cyPn"
      },
      "execution_count": null,
      "outputs": []
    },
    {
      "cell_type": "code",
      "source": [
        "model = Sequential()\n",
        "# 1st Convolutional Layer\n",
        "model.add(Conv2D(filters=96, input_shape = (227,227,3), kernel_size = (11,11),\\\n",
        "                 strides = (4,4), padding='valid'))\n",
        "model.add(Activation('relu'))\n",
        "# Pooling \n",
        "model.add(MaxPooling2D(pool_size = (2,2), strides = (2,2,), padding = 'valid'))\n",
        "# Batch Normalization before passing it to the next layer\n",
        "model.add(BatchNormalization())\n",
        "\n",
        "# 2nd Convolutional layer\n",
        "model.add(Conv2D(filters = 256, kernel_size=(11,11), strides = (1,1), padding = 'valid'))\n",
        "model.add(Activation('relu'))\n",
        "# Pooling \n",
        "model.add(MaxPooling2D(pool_size = (2,2), strides = (2,2), padding = 'valid'))\n",
        "# Batch normalization\n",
        "model.add(BatchNormalization())\n",
        "\n",
        "# 3rd Convolutional layer\n",
        "model.add(Conv2D(filters = 384, kernel_size = (3,3), strides = (1,1), padding = 'valid'))\n",
        "model.add(Activation('relu'))\n",
        "# Batch Normalization\n",
        "model.add(BatchNormalization())\n",
        "\n",
        "# 4rth Convolutional layer\n",
        "model.add(Conv2D(filters=384, kernel_size=(3,3), strides=(1,1), padding='valid'))\n",
        "model.add(Activation('relu'))\n",
        "# Batch Normalization\n",
        "model.add(BatchNormalization ())\n",
        "\n",
        "# 5th Convolutional layer\n",
        "model.add(Conv2D(filters = 256, kernel_size=(3,3), strides = (1,1,), padding = 'valid'))\n",
        "model.add(Activation('relu'))\n",
        "# Pooling layer\n",
        "model.add(MaxPooling2D(pool_size = (2,2), strides = (2,2), padding = 'valid'))\n",
        "# Batch Normalization\n",
        "model.add(BatchNormalization())\n",
        "\n",
        "# Passing it dense Layer\n",
        "model.add(Flatten())\n",
        "# 1st Dense layer\n",
        "model.add(Dense(4096, input_shape = (224*224*3,)))\n",
        "model.add(Activation('relu'))\n",
        "# Add Dropout to prevent overfitting\n",
        "model.add(Dropout(0.4))\n",
        "# Batch Normalization\n",
        "model.add(BatchNormalization())\n",
        "\n",
        "# 2nd Dense layer\n",
        "model.add(Dense(4096))\n",
        "model.add(Activation('relu'))\n",
        "# Add Dropout \n",
        "model.add(Dropout(0.4))\n",
        "# Batch Normalization\n",
        "model.add(BatchNormalization())\n",
        "\n",
        "# 3rd Dense layer\n",
        "model.add(Dense(1000))\n",
        "model.add(Activation('relu'))\n",
        "# Add Dropout \n",
        "model.add(Dropout(0.4))\n",
        "# Batch Normalization\n",
        "model.add(BatchNormalization())\n",
        "\n",
        "# Output Layer\n",
        "model.add(Dense(17))\n",
        "model.add(Activation('softmax'))\n",
        "model.summary()"
      ],
      "metadata": {
        "colab": {
          "base_uri": "https://localhost:8080/"
        },
        "id": "c4v41MbXd6fg",
        "outputId": "4efc0b4e-cee9-42ad-8f99-9be6943a207d"
      },
      "execution_count": null,
      "outputs": [
        {
          "output_type": "stream",
          "name": "stdout",
          "text": [
            "Model: \"sequential_25\"\n",
            "_________________________________________________________________\n",
            " Layer (type)                Output Shape              Param #   \n",
            "=================================================================\n",
            " conv2d_82 (Conv2D)          (None, 55, 55, 96)        34944     \n",
            "                                                                 \n",
            " activation_89 (Activation)  (None, 55, 55, 96)        0         \n",
            "                                                                 \n",
            " max_pooling2d_48 (MaxPoolin  (None, 27, 27, 96)       0         \n",
            " g2D)                                                            \n",
            "                                                                 \n",
            " batch_normalization_82 (Bat  (None, 27, 27, 96)       384       \n",
            " chNormalization)                                                \n",
            "                                                                 \n",
            " conv2d_83 (Conv2D)          (None, 17, 17, 256)       2973952   \n",
            "                                                                 \n",
            " activation_90 (Activation)  (None, 17, 17, 256)       0         \n",
            "                                                                 \n",
            " max_pooling2d_49 (MaxPoolin  (None, 8, 8, 256)        0         \n",
            " g2D)                                                            \n",
            "                                                                 \n",
            " batch_normalization_83 (Bat  (None, 8, 8, 256)        1024      \n",
            " chNormalization)                                                \n",
            "                                                                 \n",
            " conv2d_84 (Conv2D)          (None, 6, 6, 384)         885120    \n",
            "                                                                 \n",
            " activation_91 (Activation)  (None, 6, 6, 384)         0         \n",
            "                                                                 \n",
            " batch_normalization_84 (Bat  (None, 6, 6, 384)        1536      \n",
            " chNormalization)                                                \n",
            "                                                                 \n",
            " conv2d_85 (Conv2D)          (None, 4, 4, 384)         1327488   \n",
            "                                                                 \n",
            " activation_92 (Activation)  (None, 4, 4, 384)         0         \n",
            "                                                                 \n",
            " batch_normalization_85 (Bat  (None, 4, 4, 384)        1536      \n",
            " chNormalization)                                                \n",
            "                                                                 \n",
            " conv2d_86 (Conv2D)          (None, 2, 2, 256)         884992    \n",
            "                                                                 \n",
            " activation_93 (Activation)  (None, 2, 2, 256)         0         \n",
            "                                                                 \n",
            " max_pooling2d_50 (MaxPoolin  (None, 1, 1, 256)        0         \n",
            " g2D)                                                            \n",
            "                                                                 \n",
            " batch_normalization_86 (Bat  (None, 1, 1, 256)        1024      \n",
            " chNormalization)                                                \n",
            "                                                                 \n",
            " flatten_7 (Flatten)         (None, 256)               0         \n",
            "                                                                 \n",
            " dense_12 (Dense)            (None, 4096)              1052672   \n",
            "                                                                 \n",
            " activation_94 (Activation)  (None, 4096)              0         \n",
            "                                                                 \n",
            " dropout_10 (Dropout)        (None, 4096)              0         \n",
            "                                                                 \n",
            " batch_normalization_87 (Bat  (None, 4096)             16384     \n",
            " chNormalization)                                                \n",
            "                                                                 \n",
            " dense_13 (Dense)            (None, 4096)              16781312  \n",
            "                                                                 \n",
            " activation_95 (Activation)  (None, 4096)              0         \n",
            "                                                                 \n",
            " dropout_11 (Dropout)        (None, 4096)              0         \n",
            "                                                                 \n",
            " batch_normalization_88 (Bat  (None, 4096)             16384     \n",
            " chNormalization)                                                \n",
            "                                                                 \n",
            " dense_14 (Dense)            (None, 1000)              4097000   \n",
            "                                                                 \n",
            " activation_96 (Activation)  (None, 1000)              0         \n",
            "                                                                 \n",
            " dropout_12 (Dropout)        (None, 1000)              0         \n",
            "                                                                 \n",
            " batch_normalization_89 (Bat  (None, 1000)             4000      \n",
            " chNormalization)                                                \n",
            "                                                                 \n",
            " dense_15 (Dense)            (None, 17)                17017     \n",
            "                                                                 \n",
            " activation_97 (Activation)  (None, 17)                0         \n",
            "                                                                 \n",
            "=================================================================\n",
            "Total params: 28,096,769\n",
            "Trainable params: 28,075,633\n",
            "Non-trainable params: 21,136\n",
            "_________________________________________________________________\n"
          ]
        }
      ]
    }
  ]
}